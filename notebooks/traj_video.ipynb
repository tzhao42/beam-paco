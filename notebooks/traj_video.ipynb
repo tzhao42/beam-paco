{
 "cells": [
  {
   "cell_type": "markdown",
   "metadata": {
    "deletable": true,
    "editable": true
   },
   "source": [
    "# Creating videos of GTOC5 trajectories\n",
    "\n",
    "Luís F. Simões\n",
    "\n",
    "2017-04"
   ]
  },
  {
   "cell_type": "markdown",
   "metadata": {
    "deletable": true,
    "editable": true
   },
   "source": [
    "This notebook implements the code used to generate the video shown below.<br>\n",
    "It animates the trajectory “Spice” (Score: 17) found in the course of the [Beam P-ACO research](https://github.com/lfsimoes/beam_paco__gtoc5). Its specification can be obtained with:\n",
    "\n",
    "~~~python\n",
    "from gtoc5.bestiary import spice\n",
    "~~~"
   ]
  },
  {
   "cell_type": "code",
   "execution_count": 1,
   "metadata": {
    "collapsed": false,
    "deletable": true,
    "editable": true,
    "jupyter": {
     "outputs_hidden": false
    }
   },
   "outputs": [
    {
     "data": {
      "image/jpeg": "[encoded data removed]",
      "text/html": [
       "\n",
       "        <iframe\n",
       "            width=\"853\"\n",
       "            height=\"480\"\n",
       "            src=\"https://www.youtube.com/embed/WdmbczsFyto?rel=0\"\n",
       "            frameborder=\"0\"\n",
       "            allowfullscreen\n",
       "        ></iframe>\n",
       "        "
      ],
      "text/plain": [
       "<IPython.lib.display.YouTubeVideo at 0x7f556042fa58>"
      ]
     },
     "execution_count": 1,
     "metadata": {},
     "output_type": "execute_result"
    }
   ],
   "source": [
    "from IPython.display import YouTubeVideo\n",
    "YouTubeVideo('WdmbczsFyto', width=853, height=480, rel=0)"
   ]
  },
  {
   "cell_type": "markdown",
   "metadata": {
    "deletable": true,
    "editable": true
   },
   "source": [
    "----"
   ]
  },
  {
   "cell_type": "markdown",
   "metadata": {
    "deletable": true,
    "editable": true
   },
   "source": [
    "<h1 id=\"tocheading\">Table of Contents</h1>\n",
    "<div id=\"toc\"></div>"
   ]
  },
  {
   "cell_type": "markdown",
   "metadata": {
    "deletable": true,
    "editable": true
   },
   "source": [
    "----"
   ]
  },
  {
   "cell_type": "markdown",
   "metadata": {
    "deletable": true,
    "editable": true
   },
   "source": [
    "# Imports"
   ]
  },
  {
   "cell_type": "markdown",
   "metadata": {
    "deletable": true,
    "editable": true
   },
   "source": [
    "See the [Watermark](#Watermark) section for the specific versions used of each library.<br>\n",
    "For the code contained in this notebook to work, Matplotlib has two additional external dependencies:\n",
    " * [FFmpeg](https://ffmpeg.org/about.html) (required for the animation module to be able to save output to movie formats), and\n",
    " * [ImageMagick](https://www.imagemagick.org/) (required for the animation module to be able to save to animated gif files)."
   ]
  },
  {
   "cell_type": "code",
   "execution_count": 2,
   "metadata": {
    "deletable": true,
    "editable": true
   },
   "outputs": [],
   "source": [
    "# https://esa.github.io/pykep/\n",
    "# https://github.com/esa/pykep\n",
    "# https://pypi.python.org/pypi/pykep/\n",
    "import pykep as pk"
   ]
  },
  {
   "cell_type": "code",
   "execution_count": 3,
   "metadata": {
    "deletable": true,
    "editable": true
   },
   "outputs": [],
   "source": [
    "import numpy as np"
   ]
  },
  {
   "cell_type": "code",
   "execution_count": 4,
   "metadata": {
    "deletable": true,
    "editable": true
   },
   "outputs": [],
   "source": [
    "import matplotlib.pylab as plt\n",
    "plt.rcParams['figure.figsize'] = 10, 8\n",
    "\n",
    "from mpl_toolkits.mplot3d import Axes3D\n",
    "from mpl_toolkits.mplot3d.art3d import Line3DCollection\n",
    "from matplotlib.animation import FuncAnimation\n",
    "\n",
    "%matplotlib inline\n",
    "#%matplotlib notebook"
   ]
  },
  {
   "cell_type": "code",
   "execution_count": 5,
   "metadata": {
    "deletable": true,
    "editable": true
   },
   "outputs": [],
   "source": [
    "import seaborn as sns"
   ]
  },
  {
   "cell_type": "code",
   "execution_count": 6,
   "metadata": {
    "deletable": true,
    "editable": true
   },
   "outputs": [],
   "source": [
    "import sys\n",
    "from tqdm import tqdm"
   ]
  },
  {
   "cell_type": "code",
   "execution_count": 7,
   "metadata": {
    "deletable": true,
    "editable": true
   },
   "outputs": [
    {
     "name": "stdout",
     "output_type": "stream",
     "text": [
      "loaded src module\n",
      "Loaded gtoc5 submodule\n"
     ]
    }
   ],
   "source": [
    "from src.gtoc5.gtoc5 import *"
   ]
  },
  {
   "cell_type": "markdown",
   "metadata": {
    "deletable": true,
    "editable": true
   },
   "source": [
    "Loading “Spice”, the trajectory being shown."
   ]
  },
  {
   "cell_type": "code",
   "execution_count": 8,
   "metadata": {
    "collapsed": false,
    "deletable": true,
    "editable": true,
    "jupyter": {
     "outputs_hidden": false
    }
   },
   "outputs": [
    {
     "name": "stdout",
     "output_type": "stream",
     "text": [
      "(1712, 3912.530999146394, 59127.205255048466, 59181.08381655966)\n",
      "(1712, 3912.530999146394, 59127.205255048466, 59181.08381655966)\n"
     ]
    },
    {
     "data": {
      "text/plain": [
       "(17.0, 503.17005813628697, 14.824982263414705, 0.001680974141709279)"
      ]
     },
     "execution_count": 8,
     "metadata": {},
     "output_type": "execute_result"
    }
   ],
   "source": [
    "from src.gtoc5.bestiary import spice\n",
    "score(spice), final_mass(spice), tof(spice) * DAY2YEAR, resource_rating(spice)"
   ]
  },
  {
   "cell_type": "markdown",
   "metadata": {
    "deletable": true,
    "editable": true
   },
   "source": [
    "---"
   ]
  },
  {
   "cell_type": "markdown",
   "metadata": {
    "deletable": true,
    "editable": true
   },
   "source": [
    "# Decoding `mission` data structures"
   ]
  },
  {
   "cell_type": "markdown",
   "metadata": {
    "deletable": true,
    "editable": true
   },
   "source": [
    "Classes that take in a `mission` data structure (as created by the GTOC5 module's `mission_to_1st_asteroid()` and `add_asteroid()` functions) and rebuild the legs they define. Legs gain additional information about them, along with methods to manipulate that information."
   ]
  },
  {
   "cell_type": "code",
   "execution_count": 9,
   "metadata": {
    "collapsed": false,
    "deletable": true,
    "editable": true,
    "jupyter": {
     "outputs_hidden": false
    }
   },
   "outputs": [],
   "source": [
    "class leg(object):\n",
    "\n",
    "    def __init__(self, mission, departure_idx):\n",
    "        \"\"\"\n",
    "        Load a GTOC5 leg, as specified in the `mission` data structure,\n",
    "        at indices `departure_idx` and `departure_idx + 1`.\n",
    "        \"\"\"\n",
    "        (self.dep_ast, self.dep_m, self.dep_t, _,           _) = mission[departure_idx]\n",
    "        (self.arr_ast, self.arr_m, self.arr_t, self.leg_dT, _) = mission[departure_idx + 1]\n",
    "        # self.arr_m is mass at the end of the leg, after deploying equipment/penetrator\n",
    "        # self.arr_t is time of this leg's termination, when spacecraft starts next leg\n",
    "        self.idx = departure_idx + 1\n",
    "    \n",
    "    \n",
    "    def show(self, ax=None, **kwargs):\n",
    "        if ax is None:\n",
    "            fig = plt.figure()\n",
    "            ax = fig.add_subplot(111, projection='3d')\n",
    "        rs = self.where_at(**kwargs) / AU\n",
    "        ax.plot(rs[:,0], rs[:,1], rs[:,2])\n",
    "        return ax\n",
    "        \n",
    "    \n",
    "    def destination(self):\n",
    "        \"Name of the asteroid the leg is flying towards\"\n",
    "        name = asteroids[self.arr_ast].name\n",
    "        if name[0]=='(' and name[-1]==')':\n",
    "            name = name[1:-1]\n",
    "        return name\n",
    "        \n",
    "    \n",
    "    def ordinal(self):\n",
    "        \"\"\"\n",
    "        Ordinal representation of the destination asteroid\n",
    "        in the sequence (1st, 2nd, ...).\n",
    "        \"\"\"\n",
    "        nth = int(np.ceil(self.idx / 2))\n",
    "        # http://stackoverflow.com/a/739266\n",
    "        if 4 <= nth <= 20 or 24 <= nth <= 30:\n",
    "            suffix = \"th\"\n",
    "        else:\n",
    "            suffix = [\"st\", \"nd\", \"rd\"][nth % 10 - 1]\n",
    "        return '%d%s' % (nth, suffix)\n",
    "        \n",
    "    \n",
    "    def ast_at(self, ast, epochs=None, dTs=None, nr_pts=50):\n",
    "        \"\"\"\n",
    "        Where is the given asteroid `ast` as this leg takes place?\n",
    "        Time range specified as a list of `epochs` or `dTs`.\n",
    "        \"\"\"\n",
    "        if epochs is None and dTs is None:\n",
    "            # no epochs nor dTs specified; obtain positions at `nr_pts` points along the leg's duration\n",
    "            epochs = self.dep_t + np.linspace(0, self.leg_dT, nr_pts)\n",
    "        elif epochs is None:\n",
    "            # dTs specified; convert them to epochs\n",
    "            epochs = [self.dep_t + dT for dT in dTs]\n",
    "        assert all(self.dep_t <= e <= self.arr_t for e in epochs), \\\n",
    "            \"Requested epochs are out of the leg's bounds [%f, %f]\" % (self.dep_t, self.arr_t)\n",
    "        rv = np.array([\n",
    "            asteroids[ast].eph(pk.epoch(e, 'mjd'))\n",
    "            for e in epochs\n",
    "            ]).reshape(-1, 6)\n",
    "        return rv[:, :3], rv[:,-3:] # (r , v)\n",
    "    \n",
    "    \n",
    "    def precompute_path(self):\n",
    "        \"Precompute path taken by spacecraft along leg at 0.2 day increments.\"\n",
    "        self.path_t = np.arange(self.dep_t, self.arr_t, 0.2)\n",
    "        if self.path_t[-1] < self.arr_t:\n",
    "            # ensure r is computed at the leg's arrival time\n",
    "            self.path_t = np.hstack([self.path_t, self.arr_t])\n",
    "        self.path_r, self.path_v = self.where_at(epochs=self.path_t)\n",
    "    \n",
    "    \n",
    "    def precomputed_path(self, current_epoch, rv=None):\n",
    "        \"\"\"\n",
    "        Read from the precomputed path information the spacecraft's\n",
    "        path along the current leg, up to `current_epoch`.\n",
    "        \"\"\"\n",
    "        assert self.dep_t <= current_epoch <= self.arr_t, \\\n",
    "            \"Requested `current_epoch` lies of the leg's bounds [%f, %f]\" % (self.dep_t, self.arr_t)\n",
    "        r, v = rv if rv is not None else (self.path_r, self.path_v)\n",
    "        # find index into the precomputed path lying closest to `current_epoch`\n",
    "        nearest_idx = np.abs(self.path_t - current_epoch).argmin()\n",
    "        return (self.path_t[:nearest_idx + 1],\n",
    "                r[:nearest_idx + 1],\n",
    "                v[:nearest_idx + 1])"
   ]
  },
  {
   "cell_type": "code",
   "execution_count": 10,
   "metadata": {
    "deletable": true,
    "editable": true
   },
   "outputs": [],
   "source": [
    "class leg_fb(leg):\n",
    "    \n",
    "    leg_type = 'self-fly-by'\n",
    "    \n",
    "    def __init__(self, mission, departure_idx, precompute_path=False):\n",
    "        \"\"\"\n",
    "        Load a GTOC5 self-flyby leg, as specified in the `mission`\n",
    "        data structure, at indices `departure_idx` and `departure_idx + 1`.\n",
    "        \"\"\"\n",
    "        super(leg_fb, self).__init__(mission, departure_idx)\n",
    "        assert self.dep_ast == self.arr_ast, \"Given leg is not a self-fly-by leg.\"\n",
    "        \n",
    "        if precompute_path:\n",
    "            self.precompute_path()\n",
    "        \n",
    "    \n",
    "    def where_at(self, epochs=None, dTs=None, nr_pts=50):\n",
    "        \"\"\"\n",
    "        Where's the spacecraft during this leg, at the given `epochs` or `dTs`?\n",
    "        \n",
    "        Self-fly-by legs are approximated by the linear acceleration model.\n",
    "        No further details about them are available in our chemical version of\n",
    "        the full-problem. In any case, the spacecraft's movements around the\n",
    "        asteroid would be imperceptible in the plot. So, we simply return here\n",
    "        the asteroid's position as representation of the spacecraft's location\n",
    "        during the self-flyby leg.\n",
    "        \"\"\"\n",
    "        return self.ast_at(self.dep_ast, epochs, dTs, nr_pts)"
   ]
  },
  {
   "cell_type": "code",
   "execution_count": 11,
   "metadata": {
    "deletable": true,
    "editable": true
   },
   "outputs": [],
   "source": [
    "class leg_rv(leg):\n",
    "    \n",
    "    leg_type = 'rendezvous'\n",
    "    \n",
    "    def __init__(self, mission, departure_idx, precompute_path=False):\n",
    "        \"\"\"\n",
    "        Rebuild a GTOC5 rendezvous leg, as specified in the `mission`\n",
    "        data structure, at indices `departure_idx` and `departure_idx + 1`.\n",
    "        \"\"\"\n",
    "        super(leg_rv, self).__init__(mission, departure_idx)\n",
    "        \n",
    "        self.leg = gtoc5_rendezvous(self.leg_dT, self.dep_ast, self.arr_ast, self.dep_t, self.dep_m,\n",
    "                                    validate_barker=False, validate_acc=False)\n",
    "        # The very first rendezvous leg, departing from Earth, will also be decoded\n",
    "        # here by a Lambert arc. That leg's specification was actually obtained as\n",
    "        # the result of a low-thrust optimization (see `mission_to_1st_asteroid()`).\n",
    "        # For plotting purposes, however, a Lambert arc created using the same relevant\n",
    "        # epochs will be indistinguishable from the leg's true low-thrust arc.\n",
    "        \n",
    "        # leg departs from the asteroid's r at epoch dep_t\n",
    "        dep_epoch = pk.epoch(float(self.dep_t), 'mjd')\n",
    "        self.dep_r = self.leg.dep_ast.eph(dep_epoch)[0]\n",
    "        # velocity vector at departure asteroid given by the chosen Lambert's problem solution\n",
    "        self.dep_v = self.leg.v_sc[0]\n",
    "        \n",
    "        if precompute_path:\n",
    "            self.precompute_path()\n",
    "            # determine also where the arrival asteroid is at while rendezvous with it is taking place\n",
    "            self.arr_ast_r, self.arr_ast_v = self.ast_at(self.arr_ast, epochs=self.path_t)\n",
    "    \n",
    "    \n",
    "    def inspect(self):\n",
    "        \"\"\"\n",
    "        Obtain dictionary of variables defined in the `gtoc5_rendezvous`\n",
    "        instance (`self.leg`), excluding the asteroids' objects.\n",
    "        \"\"\"\n",
    "        return {k:v for (k,v) in self.leg.__dict__.items() if '_ast' not in k}\n",
    "    \n",
    "    \n",
    "    def propagate_lagrangian(self, dT=None, epoch=None):\n",
    "        if epoch is not None:\n",
    "            assert self.dep_t <= epoch <= self.arr_t, \\\n",
    "                \"Given epoch (%f) is out of the leg's bounds [%f, %f]\" % (\n",
    "                    epoch, self.dep_t, self.arr_t)\n",
    "            dT = epoch - self.dep_t\n",
    "        # https://esa.github.io/pykep/documentation/core.html#PyKEP.propagate_lagrangian\n",
    "        return pk.propagate_lagrangian(self.dep_r, self.dep_v, dT * DAY2SEC, MU_SUN)\n",
    "        \n",
    "    \n",
    "    def where_at(self, epochs=None, dTs=None, nr_pts=50):\n",
    "        \"Where's the spacecraft during this leg, at the given `epochs` or `dTs`?\"\n",
    "        if epochs is None and dTs is None:\n",
    "            # no epochs nor dTs specified; obtain positions at `nr_pts` points along the leg's duration\n",
    "            epochs = self.dep_t + np.linspace(0, self.leg_dT, nr_pts)\n",
    "        elif epochs is None:\n",
    "            # dTs specified; convert them to epochs\n",
    "            epochs = [self.dep_t + dT for dT in dTs]\n",
    "        rv = np.array([\n",
    "            self.propagate_lagrangian(epoch=e)\n",
    "            for e in epochs\n",
    "            ]).reshape(-1, 6)\n",
    "        return rv[:, :3], rv[:,-3:] # (r , v)"
   ]
  },
  {
   "cell_type": "code",
   "execution_count": 12,
   "metadata": {
    "deletable": true,
    "editable": true
   },
   "outputs": [],
   "source": [
    "class bodies(object):\n",
    "    \"Where are all the bodies visited in the mission?\"\n",
    "    \n",
    "    def __init__(self, mission):\n",
    "        self.ids = seq(mission, incl_flyby=False)\n",
    "        self.bodies = [asteroids[b] for b in self.ids]\n",
    "        self.names = [\n",
    "            b.name[1:-1] if b.name[0]=='(' and b.name[-1]==')' else b.name\n",
    "            for b in self.bodies]\n",
    "    \n",
    "    def where_at(self, epoch):\n",
    "        t = pk.epoch(epoch, 'mjd')\n",
    "        rv = np.array([\n",
    "            b.eph(t)\n",
    "            for b in self.bodies\n",
    "            ]).reshape(-1, 6)\n",
    "        return rv[:, :3], rv[:,-3:] # (r , v)"
   ]
  },
  {
   "cell_type": "code",
   "execution_count": 13,
   "metadata": {
    "collapsed": false,
    "deletable": true,
    "editable": true,
    "jupyter": {
     "outputs_hidden": false
    }
   },
   "outputs": [],
   "source": [
    "t = [(leg_rv if i % 2 == 0 else leg_fb)(spice, i, precompute_path=True)\n",
    "    for i in range(len(spice) - 1)]"
   ]
  },
  {
   "cell_type": "code",
   "execution_count": 14,
   "metadata": {
    "collapsed": true,
    "deletable": true,
    "editable": true,
    "jupyter": {
     "outputs_hidden": true
    }
   },
   "outputs": [
    {
     "data": {
      "text/plain": [
       "[(0, '2001 GP2', 'rendezvous'),\n",
       " (1, '2001 GP2', 'self-fly-by'),\n",
       " (2, '2007 UN12', 'rendezvous'),\n",
       " (3, '2007 UN12', 'self-fly-by'),\n",
       " (4, '2003 SM84', 'rendezvous'),\n",
       " (5, '2003 SM84', 'self-fly-by'),\n",
       " (6, '2010 KV7', 'rendezvous'),\n",
       " (7, '2010 KV7', 'self-fly-by'),\n",
       " (8, '2008 NX', 'rendezvous'),\n",
       " (9, '2008 NX', 'self-fly-by'),\n",
       " (10, '2010 CE55', 'rendezvous'),\n",
       " (11, '2010 CE55', 'self-fly-by'),\n",
       " (12, '2003 GA', 'rendezvous'),\n",
       " (13, '2003 GA', 'self-fly-by'),\n",
       " (14, '2009 RT1', 'rendezvous'),\n",
       " (15, '2009 RT1', 'self-fly-by'),\n",
       " (16, '2008 CX118', 'rendezvous'),\n",
       " (17, '2008 CX118', 'self-fly-by'),\n",
       " (18, '2009 BD', 'rendezvous'),\n",
       " (19, '2009 BD', 'self-fly-by'),\n",
       " (20, '2006 RH120', 'rendezvous'),\n",
       " (21, '2006 RH120', 'self-fly-by'),\n",
       " (22, '2006 JY26', 'rendezvous'),\n",
       " (23, '2006 JY26', 'self-fly-by'),\n",
       " (24, '2009 OS5', 'rendezvous'),\n",
       " (25, '2009 OS5', 'self-fly-by'),\n",
       " (26, '2006 HE2', 'rendezvous'),\n",
       " (27, '2006 HE2', 'self-fly-by'),\n",
       " (28, '2001 QE71', 'rendezvous'),\n",
       " (29, '2001 QE71', 'self-fly-by'),\n",
       " (30, '2010 FN', 'rendezvous'),\n",
       " (31, '2010 FN', 'self-fly-by'),\n",
       " (32, '2005 CN', 'rendezvous'),\n",
       " (33, '2005 CN', 'self-fly-by')]"
      ]
     },
     "execution_count": 14,
     "metadata": {},
     "output_type": "execute_result"
    }
   ],
   "source": [
    "# targets, and leg-type at each leg\n",
    "[(i, l.destination(), l.leg_type) for i,l in enumerate(t)]"
   ]
  },
  {
   "cell_type": "code",
   "execution_count": 15,
   "metadata": {
    "collapsed": true,
    "deletable": true,
    "editable": true,
    "jupyter": {
     "outputs_hidden": true
    }
   },
   "outputs": [
    {
     "data": {
      "text/plain": [
       "(array([59127.20525505, 59127.40525505, 59127.60525505, 59127.80525505,\n",
       "        59128.00525505, 59128.20525505, 59128.40525505, 59128.60525505,\n",
       "        59128.80525505, 59129.00525505, 59129.20525505, 59129.40525505,\n",
       "        59129.60525505, 59129.80525505, 59130.00525505, 59130.20525505,\n",
       "        59130.40525505, 59130.60525505, 59130.80525505, 59131.00525505,\n",
       "        59131.20525505, 59131.40525505, 59131.60525505, 59131.80525505,\n",
       "        59132.00525505, 59132.20525505]),\n",
       " array([[ 1.46201794e+11,  3.16549023e+10, -6.68560277e+05],\n",
       "        [ 1.46120810e+11,  3.21745298e+10, -1.15831326e+07],\n",
       "        [ 1.46038096e+11,  3.26937766e+10, -2.24975678e+07],\n",
       "        [ 1.45953657e+11,  3.32126368e+10, -3.34117371e+07],\n",
       "        [ 1.45867492e+11,  3.37311046e+10, -4.43255116e+07],\n",
       "        [ 1.45779606e+11,  3.42491741e+10, -5.52387627e+07],\n",
       "        [ 1.45689999e+11,  3.47668395e+10, -6.61513619e+07],\n",
       "        [ 1.45598673e+11,  3.52840948e+10, -7.70631811e+07],\n",
       "        [ 1.45505632e+11,  3.58009343e+10, -8.79740920e+07],\n",
       "        [ 1.45410877e+11,  3.63173521e+10, -9.88839668e+07],\n",
       "        [ 1.45314411e+11,  3.68333424e+10, -1.09792678e+08],\n",
       "        [ 1.45216235e+11,  3.73488995e+10, -1.20700097e+08],\n",
       "        [ 1.45116352e+11,  3.78640176e+10, -1.31606098e+08],\n",
       "        [ 1.45014765e+11,  3.83786908e+10, -1.42510552e+08],\n",
       "        [ 1.44911475e+11,  3.88929135e+10, -1.53413334e+08],\n",
       "        [ 1.44806485e+11,  3.94066799e+10, -1.64314316e+08],\n",
       "        [ 1.44699797e+11,  3.99199843e+10, -1.75213371e+08],\n",
       "        [ 1.44591414e+11,  4.04328210e+10, -1.86110373e+08],\n",
       "        [ 1.44481337e+11,  4.09451842e+10, -1.97005196e+08],\n",
       "        [ 1.44369570e+11,  4.14570683e+10, -2.07897714e+08],\n",
       "        [ 1.44256115e+11,  4.19684676e+10, -2.18787801e+08],\n",
       "        [ 1.44140974e+11,  4.24793764e+10, -2.29675331e+08],\n",
       "        [ 1.44024150e+11,  4.29897892e+10, -2.40560179e+08],\n",
       "        [ 1.43905645e+11,  4.34997003e+10, -2.51442220e+08],\n",
       "        [ 1.43785462e+11,  4.40091040e+10, -2.62321327e+08],\n",
       "        [ 1.43663602e+11,  4.45179948e+10, -2.73197378e+08]]),\n",
       " array([[-4636.53102472, 30081.93310778,  -631.63181512],\n",
       "        [-4736.63409238, 30060.07535136,  -631.62762004],\n",
       "        [-4836.61739982, 30037.87598665,  -631.61595726],\n",
       "        [-4936.47974702, 30015.33574932,  -631.59683646],\n",
       "        [-5036.21993895, 29992.45537923,  -631.5702674 ],\n",
       "        [-5135.8367856 , 29969.23562044,  -631.53625999],\n",
       "        [-5235.32910199, 29945.67722117,  -631.49482422],\n",
       "        [-5334.69570816, 29921.7809337 ,  -631.44597019],\n",
       "        [-5433.93542921, 29897.54751442,  -631.3897081 ],\n",
       "        [-5533.04709527, 29872.97772373,  -631.32604827],\n",
       "        [-5632.02954159, 29848.07232605,  -631.2550011 ],\n",
       "        [-5730.88160843, 29822.83208973,  -631.17657712],\n",
       "        [-5829.60214121, 29797.25778709,  -631.09078694],\n",
       "        [-5928.18999038, 29771.35019428,  -630.99764129],\n",
       "        [-6026.64401155, 29745.11009135,  -630.89715098],\n",
       "        [-6124.96306543, 29718.53826216,  -630.78932693],\n",
       "        [-6223.14601784, 29691.63549432,  -630.67418016],\n",
       "        [-6321.19173976, 29664.40257921,  -630.55172179],\n",
       "        [-6419.09910731, 29636.84031193,  -630.42196304],\n",
       "        [-6516.86700174, 29608.94949121,  -630.28491523],\n",
       "        [-6614.49430949, 29580.73091945,  -630.14058975],\n",
       "        [-6711.97992215, 29552.18540265,  -629.98899812],\n",
       "        [-6809.32273649, 29523.31375036,  -629.83015194],\n",
       "        [-6906.52165447, 29494.11677567,  -629.66406291],\n",
       "        [-7003.57558323, 29464.59529514,  -629.49074281],\n",
       "        [-7100.48343511, 29434.75012882,  -629.31020352]]))"
      ]
     },
     "execution_count": 15,
     "metadata": {},
     "output_type": "execute_result"
    }
   ],
   "source": [
    "# path taken by spacecraft in the first 5 days of its first leg (epochs, r, v)\n",
    "t[0].precomputed_path(t[0].dep_t+5)"
   ]
  },
  {
   "cell_type": "code",
   "execution_count": 16,
   "metadata": {
    "collapsed": true,
    "deletable": true,
    "editable": true,
    "jupyter": {
     "outputs_hidden": true
    }
   },
   "outputs": [
    {
     "data": {
      "text/plain": [
       "['Earth',\n",
       " '2001 GP2',\n",
       " '2007 UN12',\n",
       " '2003 SM84',\n",
       " '2010 KV7',\n",
       " '2008 NX',\n",
       " '2010 CE55',\n",
       " '2003 GA',\n",
       " '2009 RT1',\n",
       " '2008 CX118',\n",
       " '2009 BD',\n",
       " '2006 RH120',\n",
       " '2006 JY26',\n",
       " '2009 OS5',\n",
       " '2006 HE2',\n",
       " '2001 QE71',\n",
       " '2010 FN',\n",
       " '2005 CN']"
      ]
     },
     "execution_count": 16,
     "metadata": {},
     "output_type": "execute_result"
    }
   ],
   "source": [
    "bodies(spice).names"
   ]
  },
  {
   "cell_type": "markdown",
   "metadata": {
    "deletable": true,
    "editable": true
   },
   "source": [
    "----"
   ]
  },
  {
   "cell_type": "markdown",
   "metadata": {
    "deletable": true,
    "editable": true
   },
   "source": [
    "# Trajectory animation class"
   ]
  },
  {
   "cell_type": "code",
   "execution_count": 17,
   "metadata": {
    "deletable": true,
    "editable": true
   },
   "outputs": [],
   "source": [
    "from bisect import bisect_right\n",
    "\n",
    "# https://docs.python.org/3/library/bisect.html#searching-sorted-lists\n",
    "def find_le(a, x):\n",
    "    'Find rightmost value less than or equal to x'\n",
    "    i = bisect_right(a, x)\n",
    "    if i:\n",
    "        return i - 1\n",
    "    raise ValueError"
   ]
  },
  {
   "cell_type": "code",
   "execution_count": 18,
   "metadata": {
    "collapsed": false,
    "deletable": true,
    "editable": true,
    "jupyter": {
     "outputs_hidden": false
    }
   },
   "outputs": [],
   "source": [
    "class traj_anim(object):\n",
    "    \n",
    "    def __init__(self, mission):\n",
    "        self.mission = mission\n",
    "        self.bodies = bodies(self.mission)\n",
    "        self.traj = self.decode_mission(self.mission)\n",
    "        self.leg_start = [l.dep_t for l in self.traj]\n",
    "        \n",
    "        self.marker_gradient = True  # prettier body markers, but slower rendering\n",
    "        self.show_extra_info = True  # flag indicating whether to show textual information, and the 2d plots\n",
    "        \n",
    "        self.prog_bar = None\n",
    "        \n",
    "    \n",
    "    def decode_mission(self, mission):\n",
    "        return [\n",
    "            (leg_rv if i % 2 == 0 else leg_fb)(mission, i, precompute_path=True)\n",
    "            for i in range(len(mission) - 1)\n",
    "            ]\n",
    "        \n",
    "    \n",
    "    def get_leg(self, epoch):\n",
    "        \"Get the leg that is taking place at `epoch`.\"\n",
    "        leg_idx = find_le(self.leg_start, epoch)\n",
    "        return leg_idx, self.traj[leg_idx]\n",
    "    \n",
    "    \n",
    "    def where_at(self, epoch, time_horizon=None):\n",
    "        \"\"\"\n",
    "        Determine the positions of all of the trajectory's bodies\n",
    "        (Earth + asteroids) at `epoch`. Obtain also the path taken\n",
    "        by spacecraft up to `epoch` in the current leg, as well\n",
    "        as paths taken in other legs over a time window stretching\n",
    "        `time_horizon` days into the past.\n",
    "        \"\"\"\n",
    "        b_r, b_v = self.bodies.where_at(epoch)\n",
    "        \n",
    "        li, l = self.get_leg(epoch)\n",
    "        t, r, v = l.precomputed_path(epoch)\n",
    "        \n",
    "        # spacecraft was at `r` in epochs `t` during leg `l`\n",
    "        legs_in_window = [(l, t, r / AU, v)]\n",
    "        \n",
    "        # determine also where spacecraft has been in the past year\n",
    "        if time_horizon is not None:\n",
    "            while li != 0:\n",
    "                li -= 1\n",
    "                l = self.traj[li]\n",
    "                if (epoch - l.arr_t) < time_horizon:\n",
    "                    # leg `l` falls (at least partially) within time window. Include it\n",
    "                    legs_in_window.append((l, l.path_t, l.path_r / AU, l.path_v))\n",
    "        \n",
    "        return b_r / AU, list(reversed(legs_in_window))\n",
    "       \n",
    "    \n",
    "    \n",
    "    def earth_orbit(self, epoch):\n",
    "        \"The earth's orbit for the year preceding `epoch`.\"\n",
    "        nr_samples = int(np.ceil(1*YEAR2DAY / 2))\n",
    "        return np.array([\n",
    "            asteroids[0].eph(pk.epoch(t, 'mjd'))[0]\n",
    "            for t in np.linspace(epoch - 1*YEAR2DAY, epoch, nr_samples)\n",
    "            ]) / AU\n",
    "    \n",
    "    \n",
    "    \n",
    "    def create_fig(self, pixel_height=480):\n",
    "        \"Initialize figure\"\n",
    "        aspect_ratio = 16/9\n",
    "        fig_width = (pixel_height * aspect_ratio) / 100\n",
    "        fig_height = fig_width / aspect_ratio\n",
    "        \n",
    "        fig = plt.figure(figsize=(fig_width, fig_height), dpi=100)\n",
    "        ax = fig.add_subplot(111, projection='3d', facecolor='black')\n",
    "        \n",
    "        fig.subplots_adjust(left=0, right=1, bottom=0, top=1)\n",
    "        \n",
    "        # create axes for the sun-distance and declination 2d-plots\n",
    "        position1 = [0.4, 0.015, .3, .1] # [left, bottom, width, height]\n",
    "        position2 = [0.7, 0.015, .3, .1]\n",
    "        #position2 = [0.7, 0.05, .3, .1] # (with xlabel)\n",
    "        axes_args = dict(facecolor='black', frameon=False)\n",
    "        sub_ax1 = fig.add_axes(position1, **axes_args)\n",
    "        sub_ax2 = fig.add_axes(position2, **axes_args)\n",
    "        \n",
    "        # precompute the earth's orbit\n",
    "        self.eo = self.earth_orbit(0)\n",
    "        # np.linalg.norm(t.eo, axis=1).max() -> 1.0167044834525525\n",
    "        \n",
    "        # auxiliary variables for plotting plane of the ecliptic (as a square, 2 AU wide)\n",
    "        x = np.outer(np.linspace(-1.016, 1.016, 3), np.ones(3))\n",
    "        y = x.copy().T\n",
    "        z = np.outer(np.zeros(3), np.zeros(3))\n",
    "        self.plane_ecliptic = (x, y, z)\n",
    "        \n",
    "        return fig, ax, sub_ax1, sub_ax2\n",
    "        \n",
    "        \n",
    "    \n",
    "    def scaled_marker(self, ax, size_1080p):\n",
    "        \"scale a marker's size, given it's intended size at 1080p\"\n",
    "        #width = ax.get_figure().get_size_inches()[0]\n",
    "        width = ax.get_window_extent().width / 100\n",
    "        return width / 19.2 * size_1080p\n",
    "    \n",
    "    \n",
    "    def marker_area(self, diameter):\n",
    "        \"\"\"\n",
    "        `ax.plot()` takes sizes as diameters\n",
    "        (which in this class are scaled by `scaled_marker()`).\n",
    "        In `ax.scatter3D`, however, sizes are given as areas.\n",
    "        Convert here.\n",
    "        \"\"\"\n",
    "        return np.pi * (diameter / 2) * (diameter / 2)\n",
    "        \n",
    "        \n",
    "    \n",
    "    def heliocentric_radius(self, sc_paths=None, epoch=None):\n",
    "        \"\"\"\n",
    "        Measure the evolution of the spacecraft's heliocentric radius\n",
    "        (distance to the Sun), in AU.\n",
    "        (plotting aid; formats inputs for `show_orbit_stats()`)\n",
    "        \"\"\"\n",
    "        epoch = self.traj[-1].arr_t if epoch is None else epoch\n",
    "        if sc_paths is None:\n",
    "            (_, sc_paths) = self.where_at(epoch, time_horizon=TIME_MAX)\n",
    "        \n",
    "        (l, t, r, v) = list(zip(*sc_paths))\n",
    "        t = np.hstack(t)\n",
    "        au = np.linalg.norm(np.vstack(r), axis=1)\n",
    "        \n",
    "        # values for the scatterplot signaling end of a leg\n",
    "        rv = [(leg, leg.arr_t) for leg in l if leg.leg_type == 'rendezvous'  and leg.arr_t <= epoch]\n",
    "        fb = [(leg, leg.arr_t) for leg in l if leg.leg_type == 'self-fly-by' and leg.arr_t <= epoch]\n",
    "        get_au = lambda i:[(e, np.linalg.norm(l.where_at([e])[0]) / AU) for (l,e) in i]\n",
    "        rv = get_au(rv)\n",
    "        fb = get_au(fb)\n",
    "        \n",
    "        return dict(\n",
    "            X = t,\n",
    "            Y = au,\n",
    "            XY_rv = rv,\n",
    "            XY_fb = fb,\n",
    "            ybaseline = 1, # AU\n",
    "            xlabel = 'Epoch',\n",
    "            #ylabel = 'Distance\\nto\\nSun (AU)',\n",
    "            #ylabel = 'Distance\\nto Sun',\n",
    "            ylabel = 'Distance to Sun',\n",
    "            )\n",
    "    \n",
    "    \n",
    "    def declination(self, sc_paths=None, epoch=None):\n",
    "        \"\"\"\n",
    "        Measure the evolution of the spacecraft's declination, in degrees.\n",
    "        (plotting aid; formats inputs for `show_orbit_stats()`)\n",
    "        \"\"\"\n",
    "        def get_d(r):\n",
    "            \"Get declination from the position vector\"\n",
    "            # https://smallsats.org/2013/01/17/right-ascension-and-declination-from-position-vector/\n",
    "            return np.arcsin(r[:,2] / np.linalg.norm(r, axis=1)) * 180 / np.pi\n",
    "        \n",
    "        epoch = self.traj[-1].arr_t if epoch is None else epoch\n",
    "        if sc_paths is None:\n",
    "            (_, sc_paths) = self.where_at(epoch, time_horizon=TIME_MAX)\n",
    "        \n",
    "        (l, t, r, v) = list(zip(*sc_paths))\n",
    "        t = np.hstack(t)\n",
    "        d = get_d(np.vstack(r))  # r values from self.where_at(), divided by AU\n",
    "        \n",
    "        # values for the scatterplot signaling end of a leg\n",
    "        rv = [(leg, leg.arr_t) for leg in l if leg.leg_type == 'rendezvous'  and leg.arr_t <= epoch]\n",
    "        fb = [(leg, leg.arr_t) for leg in l if leg.leg_type == 'self-fly-by' and leg.arr_t <= epoch]\n",
    "        get_leg_d = lambda i:[(epoch, get_d(l.where_at([epoch])[0])) for (l, epoch) in i]\n",
    "        rv = get_leg_d(rv)\n",
    "        fb = get_leg_d(fb)\n",
    "        \n",
    "        return dict(\n",
    "            X = t,\n",
    "            Y = d,\n",
    "            XY_rv = rv,\n",
    "            XY_fb = fb,\n",
    "            ybaseline = 0, # deg.\n",
    "            xlabel = 'Epoch',\n",
    "            #ylabel = 'Declination\\n(deg.)',\n",
    "            ylabel = 'Declination',\n",
    "            )\n",
    "    \n",
    "    \n",
    "    def show_orbit_stats(self, X, Y, XY_rv, XY_fb, ax=None, ybaseline=None, xlabel=None, ylabel=None, show_labels=True):\n",
    "        \"\"\"\n",
    "        2D plot showing evolution of a measured property of the spacecraft's trajectory.\n",
    "        \"\"\"\n",
    "        if ax is None:\n",
    "            fig = plt.figure(facecolor='black', figsize=(8, 2))\n",
    "            fig.subplots_adjust(left=0, right=1, bottom=0, top=1)\n",
    "            ax = fig.add_subplot(111, facecolor='black')\n",
    "        \n",
    "        ax.grid('off')\n",
    "        \n",
    "        marker_diam = self.scaled_marker(ax, 20)\n",
    "        marker_area = self.marker_area(marker_diam)\n",
    "        scaled = lambda i: i * marker_diam / 20\n",
    "        \n",
    "        # draw line showing evolution of the measured value\n",
    "        ax.plot(X, Y, lw=scaled(1), c='deepskyblue')\n",
    "        \n",
    "        # draw scatterplots indicating measured values when legs end\n",
    "        scatter_args = dict(lw=1, s=marker_area)\n",
    "        if XY_rv != []: ax.scatter(*zip(*XY_rv), c='white', **scatter_args)\n",
    "        if XY_fb != []: ax.scatter(*zip(*XY_fb), c='red',   **scatter_args)\n",
    "        \n",
    "        # baseline value the others should be compared to\n",
    "        ax.axhline(y=ybaseline, xmin=.05, xmax=.95, ls=':', c='dodgerblue', lw=scaled(5))\n",
    "        \n",
    "        # axis labels\n",
    "        if show_labels:\n",
    "            label_args = dict(fontsize=scaled(50), color='white', family='serif')\n",
    "            #ax.set_xlabel(xlabel, **label_args)\n",
    "            #ax.set_ylabel(ylabel, **label_args)\n",
    "            ax.text(.0, .9, ylabel, transform=ax.transAxes, **label_args)\n",
    "            # http://matplotlib.org/api/pyplot_api.html#matplotlib.pyplot.text\n",
    "            # http://matplotlib.org/users/text_props.html\n",
    "\n",
    "        # enforce a minimum y range, and minimum difference between bounds\n",
    "        # (avoids having unbalanced range, with baseline possibly on top of the label)\n",
    "        ymin, ymax = Y.min(), Y.max()\n",
    "        ymin -= .2 * (ymax - ymin)\n",
    "        ymax += .2 * (ymax - ymin)\n",
    "        ymin = min(ymin, ybaseline - .05)\n",
    "        ymax = max(ymax, ybaseline + .05)\n",
    "        ymax = max(ymax, 0.5 * abs(ymin))  # prevent baseline from going over plot title\n",
    "        ax.set_ylim(ymin, ymax)\n",
    "        \n",
    "        # force x axis to display 1 year at least (avoids pixelated\n",
    "        # effect on plotted curve when shown time span is too small)\n",
    "        xmin, xmax = X.min(), X.max()\n",
    "        xmax = xmin + max(xmax - xmin, 1 * YEAR2DAY) * 1.05\n",
    "        xmin = xmin - (xmax - xmin) * .05\n",
    "        ax.set_xlim(xmin, xmax)\n",
    "        \n",
    "        # remove ticks\n",
    "        ax.set_yticklabels([])\n",
    "        ax.set_xticklabels([])\n",
    "        \n",
    "        return ax\n",
    "    \n",
    "    \n",
    "    \n",
    "    def show_marker(self, ax, xyz, color, size, **kwargs):\n",
    "        \"\"\"\n",
    "        Plot at `xyz` a marker of the given `size` and `color`.\n",
    "        If `self.marker_gradient == True`, marker is drawn with a\n",
    "        gradient effect, giving it a \"fake 3D\" look.\n",
    "        \"\"\"\n",
    "        size = self.marker_area(diameter=size)\n",
    "        \n",
    "        # configure colors\n",
    "        # `color` becomes a 1-argument function.\n",
    "        # When its argument is 1, creates the purest form of the color.\n",
    "        # As it decreases to 0, color grades to white.\n",
    "        golden_rod = (218, 165, 32)   # from: http://www.rapidtables.com/web/color/RGB_Color.htm\n",
    "        saddle_brown = (139, 69, 19)  #\n",
    "        scale_color = lambda c, i: tuple([(e +(1 - i)*(255-e))/255 for e in c])\n",
    "        exp_decay = lambda i: np.e ** (-2.5 * i)\n",
    "        color = {\n",
    "            'yellow'       : lambda i: (1, 1, 1 - i),\n",
    "            'blue'         : lambda i: (1 - i, 1 - i, 1),\n",
    "            'golden_rod'   : lambda i: scale_color(golden_rod, i),\n",
    "            'saddle_brown' : lambda i: scale_color(saddle_brown, i),\n",
    "            }[color]\n",
    "        \n",
    "        xyz = np.array(xyz).reshape(-1,3)\n",
    "        \n",
    "        if not self.marker_gradient:\n",
    "            ax.scatter3D(xyz[:,0], xyz[:,1], xyz[:,2], c=color(1), marker='o', s=size, **kwargs)\n",
    "            return\n",
    "        \n",
    "        for sz in np.linspace(1, 0, 20):\n",
    "            #ax.scatter3D(xyz[:,0], xyz[:,1], xyz[:,2], c=color(sz), s=size * sz, **kwargs)\n",
    "            ax.scatter3D(xyz[:,0], xyz[:,1], xyz[:,2], c=color(1 - exp_decay(sz)), s=size * sz, **kwargs)\n",
    "        return\n",
    "        # \\-> 232.392 seconds profiling with rand_frames(t, n=1000) (88.646 seconds with self.marker_gradient == False)\n",
    "        # /-> 120.032 seconds profiling with rand_frames(t, n=1000), but some layering issues remain (sc. below ast.)\n",
    "        num_layers = 50\n",
    "        layer_size = np.linspace(1, 0, num_layers)\n",
    "        _xyz = np.vstack([[pt]*num_layers for pt in xyz])\n",
    "        sizes = np.hstack([size * layer_size] * xyz.shape[1])\n",
    "        #color = np.vstack([color(sz) for sz in layer_size] * xyz.shape[0])\n",
    "        color = np.vstack([color(1 - exp_decay(sz)) for sz in layer_size] * xyz.shape[0])\n",
    "        ax.scatter3D(_xyz[:,0], _xyz[:,1], _xyz[:,2], c=color, s=sizes, **kwargs)\n",
    "    \n",
    "    \n",
    "    \n",
    "    def show_path(self, ax, sc_paths, curr_epoch, spacecraft_marker=True,\n",
    "                  faded_ending=True, time_horizon=1*YEAR2DAY, trail_alpha=0.75, trail_color=None):\n",
    "        \"\"\"\n",
    "        Plot the spacrecraft's path over the preceding `time_horizon` days.\n",
    "        \"\"\"\n",
    "        \n",
    "        def adjusted_alpha(a, alpha_min=0.1, alpha_max=0.75):\n",
    "            \"\"\"\n",
    "            Takes a scaling of alpha values in [0, 1], and adjusts them\n",
    "            according to the following logic:\n",
    "            - values are made to remain close to 1 for most of the range,\n",
    "              but then decay exponentially towards 0 near the lower bound;\n",
    "            - values rescaled into the range [alpha_min, alpha_max], except\n",
    "              for values of 0, which retain that value (full transparency).\n",
    "            \"\"\"\n",
    "            # a_min = (0 if a==0 else alpha_min)\n",
    "            a_min = np.select([a != 0], [np.full(a.shape, alpha_min)], default=0)\n",
    "            return a_min + (1 - np.e ** (-5 * a)) * (alpha_max - alpha_min)\n",
    "            \n",
    "        \n",
    "        if not faded_ending:\n",
    "            # plot paths taken by the spacecraft in each of the given legs [no faded ending]\n",
    "            for leg, leg_t, leg_r, leg_v in sc_paths:\n",
    "                c = ('white' if leg.leg_type == 'rendezvous' else 'red') if trail_color is None else trail_color\n",
    "                leg_r = leg_r[(curr_epoch - leg_t) < time_horizon]\n",
    "                ax.plot(leg_r[:,0], leg_r[:,1], leg_r[:,2], c=c, alpha=trail_alpha, lw=1.5)\n",
    "        else:\n",
    "            paths = [\n",
    "                (   leg_r,\n",
    "                    # the trail's color: white=(1, 1, 1) if rendezvous, red=(1, 0, 0) if self-flyby, `trail_color` if given\n",
    "                    ((1, 1, 1) if leg.leg_type == 'rendezvous' else (1, 0, 0)) if trail_color is None else trail_color,\n",
    "                    # define alpha values, as a \"recency rating\": 1.0 at current epoch, 0.0 at time horizon\n",
    "                    # epochs with rating < 0 are beyond the time horizon and thus not displayed (clipped to an alpha of 0)\n",
    "                    np.clip(1 - (curr_epoch - leg_t) / time_horizon, a_min=0, a_max=1)\n",
    "                    )\n",
    "                for leg, leg_t, leg_r, _ in sc_paths\n",
    "                ]\n",
    "            \n",
    "            points, colors, alphas = zip(*paths)\n",
    "            \n",
    "            points = np.vstack(points).reshape(-1, 1, 3)\n",
    "            segments = np.concatenate([points[:-1], points[1:]], axis=1)\n",
    "            \n",
    "            # define segments' colors, and final alpha values.\n",
    "            # trail segments will retain a near-constant alpha value of `trail_alpha` for most of their existence,\n",
    "            # but then decay exponentially towards full transparency as their age approaches `time_horizon`\n",
    "            RGBA = np.vstack([\n",
    "                np.vstack([np.full(a.shape, r), np.full(a.shape, g), np.full(a.shape, b),\n",
    "                           adjusted_alpha(a, alpha_max=trail_alpha)]).T\n",
    "                for (r, g, b), a in zip(colors, alphas)\n",
    "                ])\n",
    "            \n",
    "            # plot paths taken by the spacecraft in each of the given legs\n",
    "            # http://matplotlib.org/examples/pylab_examples/multicolored_line.html\n",
    "            # varying alpha: http://stackoverflow.com/a/24773975 - http://stackoverflow.com/a/26739179\n",
    "            lc = Line3DCollection(segments, color=RGBA, lw=1.5)\n",
    "            ax.add_collection3d(lc)\n",
    "        \n",
    "        # plot marker symbolizing the spacecraft\n",
    "        if spacecraft_marker:\n",
    "            sc_r = sc_paths[-1][2][-1:]\n",
    "            ax.plot(sc_r[:,0], sc_r[:,1], sc_r[:,2], c='red', marker='X', ms=self.scaled_marker(ax, 20))\n",
    "    \n",
    "    \n",
    "    \n",
    "    def show(self, epoch, ax=None, **kwargs):\n",
    "        \"\"\"\n",
    "        Show a single frame: trajectory state at the given `epoch`.\n",
    "        If `epoch` is given as a value in [0, 1], shows instead all legs up to\n",
    "        that fraction of the mission's time span.\n",
    "        \"\"\"\n",
    "        if ax is None:\n",
    "            fig, ax, sub_ax1, sub_ax2 = self.create_fig(**kwargs)\n",
    "        else:\n",
    "            ax, sub_ax1, sub_ax2 = ax\n",
    "            ax.clear()\n",
    "            sub_ax1.clear()\n",
    "            sub_ax2.clear()\n",
    "        \n",
    "        ax.axis('off')\n",
    "        \n",
    "        # alternate between parameter settings meant for the initial\n",
    "        # trajectory animation, or for the final full-trail animation\n",
    "        if 0.0 <= epoch <= 2.0:\n",
    "            # final animation (only sun shown, no contextual information, full trajectory drawn)\n",
    "            plot_markers = False\n",
    "            time_horizon = TIME_MAX\n",
    "            \n",
    "            # set rotation & zoom\n",
    "            lim1 = .75 + (1.5 - .75) * epoch/2\n",
    "            lim2 = .11 + (.22 - .11) * epoch/2\n",
    "            ax.set_xlim3d(-lim1, lim1)\n",
    "            ax.set_ylim3d(-lim1, lim1)\n",
    "            ax.set_zlim3d(-lim2, lim2)\n",
    "            # keep elevation while drawing trajectory, then move to top down\n",
    "            elevation = 60 if epoch <= 1.0 else (60 + 30 * (epoch - 1.0))\n",
    "            azimuth = -90 - 180 * epoch / 2\n",
    "            ax.view_init(elevation, azimuth)\n",
    "            \n",
    "            epoch = min(1.0, epoch)\n",
    "            epoch = self.traj[0].dep_t + epoch * (self.traj[-1].arr_t - self.traj[0].dep_t)\n",
    "            \n",
    "            sub_ax1.set_visible(False)\n",
    "            sub_ax2.set_visible(False)\n",
    "        else:\n",
    "            # main animation (all bodies drawn, contextual information, 1 year trail behind spacecraft)\n",
    "            plot_markers = True\n",
    "            time_horizon = 1 * YEAR2DAY\n",
    "            \n",
    "            # set rotation & zoom\n",
    "            ax.set_xlim3d(-.75, .75)\n",
    "            ax.set_ylim3d(-.75, .75)\n",
    "            ax.set_zlim3d(-0.11, 0.11)\n",
    "            misson_span = (epoch - self.traj[0].dep_t) / (self.traj[-1].arr_t - self.traj[0].dep_t)\n",
    "            ax.view_init(elev=60, azim=-90 - 90*misson_span)\n",
    "            \n",
    "            sub_ax1.set_visible(self.show_extra_info)\n",
    "            sub_ax2.set_visible(self.show_extra_info)\n",
    "        \n",
    "        \n",
    "        # plot plane of the ecliptic\n",
    "        (x, y, z) = self.plane_ecliptic\n",
    "        ax.plot_surface(x, y, z, cmap=plt.cm.Greys, rstride=1, cstride=1, linewidth=0, alpha=0.1)\n",
    "        \n",
    "        # where's everybody?\n",
    "        bodies, spacecraft = self.where_at(epoch, time_horizon=time_horizon)\n",
    "        \n",
    "        # plot the Sun\n",
    "        sun_size = self.scaled_marker(ax, 50)\n",
    "        scaled = lambda i: i * sun_size / 50\n",
    "        self.show_marker(ax, (0, 0, 0), 'yellow', size=sun_size)\n",
    "        \n",
    "        if plot_markers:\n",
    "            # plot the Earth\n",
    "            self.show_marker(ax, bodies[0], 'blue', size=self.scaled_marker(ax, 25))\n",
    "            \n",
    "            # plot the Earth's orbit\n",
    "            ax.plot(self.eo[:,0], self.eo[:,1], self.eo[:,2], c='turquoise', lw=.25, alpha=.75)\n",
    "            \n",
    "            # plot the asteroids\n",
    "            self.show_marker(ax, bodies[1:], 'saddle_brown', size=self.scaled_marker(ax, 15))\n",
    "        \n",
    "        if plot_markers and self.show_extra_info:\n",
    "            # ===== show textual information, on the lower left corner\n",
    "            last_leg = spacecraft[-1][0]\n",
    "            line1 = 'Date: %s\\n' % str(pk.epoch(epoch, 'mjd')).split(' ')[0]\n",
    "            # /-> Unicode symbols for left and right double quotation marks, and \"en dash\"\n",
    "            # |   https://en.wikipedia.org/wiki/List_of_Unicode_characters#Unicode_symbols\n",
    "            line2 = 'Flying towards %s asteroid: \\u201C%s\\u201D \\u2013 %s leg\\n' % (\n",
    "                last_leg.ordinal(),\n",
    "                last_leg.destination(),\n",
    "                last_leg.leg_type)\n",
    "            line3 = 'Mission time: %.2f years\\n' % ((epoch - self.traj[0].dep_t) * DAY2YEAR)\n",
    "            m = last_leg.arr_m if last_leg.arr_t == epoch else last_leg.dep_m\n",
    "            line4 = 'Usable mass remaining: %.2f kg' % (m - MASS_MIN)\n",
    "            txt = line1 + line2 + line3 + line4\n",
    "            text_args = dict(transform=ax.transAxes,\n",
    "                             fontsize=scaled(16),\n",
    "                             multialignment='left',\n",
    "                             verticalalignment='top',\n",
    "                             color='white',\n",
    "                             #fontweight='bold',\n",
    "                             family='serif')\n",
    "            ax.text2D(.0125, .115, s=txt, **text_args)\n",
    "            \n",
    "            # ===== show 2d plots on the lower right corner\n",
    "            self.show_orbit_stats(ax=sub_ax1, **self.heliocentric_radius(epoch=epoch), show_labels=False)\n",
    "            self.show_orbit_stats(ax=sub_ax2, **self.declination(epoch=epoch), show_labels=False)\n",
    "            # print label here, so it's printed on the same axes as the\n",
    "            # other textual information, with the same configuration\n",
    "            upper_left1 = sub_ax1.get_position().corners()[1]\n",
    "            upper_left2 = sub_ax2.get_position().corners()[1]\n",
    "            # .corners() returns: [lower left, upper left, lower right, upper right]\n",
    "            ax.text2D(*upper_left1, s='Distance to Sun', **text_args)\n",
    "            ax.text2D(*upper_left2, s='Declination', **text_args)\n",
    "        \n",
    "        # plot the spacrecraft's path over the preceding `time_horizon`\n",
    "        self.show_path(ax, spacecraft, epoch, spacecraft_marker=plot_markers,\n",
    "                       faded_ending=plot_markers, time_horizon=time_horizon)\n",
    "        \n",
    "        # if we're on a rendezvous leg, plot also the target asteroid's path over the last 2 months\n",
    "        # trail plotted in \"gold\", rgb: (255, 215, 0)\n",
    "        leg = spacecraft[-1][0]\n",
    "        if plot_markers and leg.leg_type == 'rendezvous':\n",
    "            (t, r, v) = leg.precomputed_path(epoch, rv=(leg.arr_ast_r, leg.arr_ast_v))\n",
    "            path = [(leg, t, r / AU, v)]\n",
    "            self.show_path(ax, path, epoch, spacecraft_marker=False, trail_alpha=0.5,\n",
    "                           faded_ending=True, time_horizon=60, trail_color=(255 /255, 215 /255, 0 /255))\n",
    "        \n",
    "        \n",
    "        if self.prog_bar is not None:\n",
    "            # increment frame counter, and update display of the progress bar\n",
    "            self.prog_bar.update()\n",
    "        \n",
    "        return (ax, sub_ax1, sub_ax2)\n",
    "        \n",
    "    \n",
    "    \n",
    "    def create_anim(self, pixel_height=720, fps=30, render_slice=None):\n",
    "        \"\"\"\n",
    "        Create a matplotlib animation to show the current trajectory.\n",
    "        \n",
    "        Image is created with a 16:9 aspect ratio, having a resolution\n",
    "        that can be defined via `pixel_height`. Common settings include:\n",
    "        * 360p: 640 x 360 resolution\n",
    "        * 480p: 853 x 480 resolution\n",
    "        * 720p: 1280 x 720 resolution\n",
    "        * 1080p: 1920 x 1080 resolution\n",
    "        \"\"\"\n",
    "        int_ceil = lambda i: int(np.ceil(i))\n",
    "        \n",
    "        # Delay between frames in milliseconds\n",
    "        frame_interval = 1000 / fps\n",
    "        \n",
    "        # set duration of the flight animation: 2:02\n",
    "        traj_duration = 60 * 2 + 2\n",
    "        \n",
    "        # determine the epochs to be shown in each of the animation's frames\n",
    "        nr_epochs = int_ceil(traj_duration * fps)\n",
    "        epochs = np.linspace(self.traj[0].dep_t, self.traj[-1].arr_t, nr_epochs)\n",
    "        \n",
    "        # stop at the last epoch for 2 seconds of animation time (ends at 2:04)\n",
    "        epochs = np.hstack([epochs, np.ones(2 * fps) * self.traj[-1].arr_t])\n",
    "\n",
    "        # spend the next 26s of the movie redrawing the full trajectory, leaving all drawn legs in place.\n",
    "        # two 13s stages: 1. draw trajectory (ends at 2:17), and 2. zooms out and inclines to top-down view (ends at 2:30)\n",
    "        epochs = np.hstack([epochs, np.linspace(0, 2, int_ceil(2 * 13 * fps))])\n",
    "\n",
    "        # freeze the last frame for 5 seconds of animation time (end at 2:35)\n",
    "        epochs = np.hstack([epochs, np.ones(int_ceil(5 * fps)) + 1])\n",
    "\n",
    "        # animate only the seconds given in the slice\n",
    "        if render_slice is not None:\n",
    "            s = render_slice\n",
    "            s = slice(None if s.start is None else int_ceil(s.start * fps),\n",
    "                      None if s.stop  is None else int_ceil(s.stop  * fps),\n",
    "                      None if s.step  is None else int_ceil(s.step  * fps))\n",
    "            epochs = epochs[s]\n",
    "        \n",
    "        # initialize the rendering progress bar\n",
    "        self.prog_bar = tqdm(total=len(epochs), file=sys.stdout, leave=True, position=0, desc='Rendering')\n",
    "        \n",
    "        fig, *ax = self.create_fig(pixel_height)\n",
    "        return FuncAnimation(fig, self.show, frames=epochs, fargs=(ax,), interval=frame_interval)"
   ]
  },
  {
   "cell_type": "markdown",
   "metadata": {
    "deletable": true,
    "editable": true
   },
   "source": [
    "----"
   ]
  },
  {
   "cell_type": "markdown",
   "metadata": {
    "deletable": true,
    "editable": true
   },
   "source": [
    "# Testing over individual frames / elements"
   ]
  },
  {
   "cell_type": "code",
   "execution_count": 19,
   "metadata": {
    "collapsed": false,
    "deletable": true,
    "editable": true,
    "jupyter": {
     "outputs_hidden": false
    }
   },
   "outputs": [],
   "source": [
    "t = traj_anim(spice)"
   ]
  },
  {
   "cell_type": "code",
   "execution_count": 20,
   "metadata": {
    "collapsed": false,
    "deletable": true,
    "editable": true,
    "jupyter": {
     "outputs_hidden": false
    }
   },
   "outputs": [
    {
     "name": "stdout",
     "output_type": "stream",
     "text": [
      "CPU times: user 110 ms, sys: 30.5 ms, total: 140 ms\n",
      "Wall time: 98.7 ms\n",
      "CPU times: user 232 ms, sys: 128 ms, total: 360 ms\n",
      "Wall time: 121 ms\n",
      "CPU times: user 247 ms, sys: 101 ms, total: 348 ms\n",
      "Wall time: 120 ms\n"
     ]
    },
    {
     "data": {
      "text/plain": [
       "((58842.92695453358, 64812.771265346295),\n",
       " (0.7064280380916016, 1.7672734669366958))"
      ]
     },
     "execution_count": 20,
     "metadata": {},
     "output_type": "execute_result"
    },
    {
     "data": {
      "image/png": "[encoded data removed]",
      "text/plain": [
       "<Figure size 576x144 with 1 Axes>"
      ]
     },
     "metadata": {},
     "output_type": "display_data"
    },
    {
     "data": {
      "image/png": "[encoded data removed]",
      "text/plain": [
       "<Figure size 576x144 with 1 Axes>"
      ]
     },
     "metadata": {},
     "output_type": "display_data"
    },
    {
     "data": {
      "image/png": "[encoded data removed]",
      "text/plain": [
       "<Figure size 576x144 with 1 Axes>"
      ]
     },
     "metadata": {},
     "output_type": "display_data"
    }
   ],
   "source": [
    "%time ax = t.show_orbit_stats(**t.heliocentric_radius(epoch=t.traj[2].dep_t + 30))\n",
    "%time ax = t.show_orbit_stats(**t.heliocentric_radius(epoch=t.traj[5].dep_t + 30))\n",
    "%time ax = t.show_orbit_stats(**t.heliocentric_radius())\n",
    "ax.get_xlim(), ax.get_ylim()"
   ]
  },
  {
   "cell_type": "code",
   "execution_count": 21,
   "metadata": {
    "collapsed": false,
    "deletable": true,
    "editable": true,
    "jupyter": {
     "outputs_hidden": false
    }
   },
   "outputs": [
    {
     "name": "stdout",
     "output_type": "stream",
     "text": [
      "CPU times: user 80.6 ms, sys: 32.2 ms, total: 113 ms\n",
      "Wall time: 56.2 ms\n",
      "CPU times: user 119 ms, sys: 84 ms, total: 203 ms\n",
      "Wall time: 68.2 ms\n",
      "CPU times: user 110 ms, sys: 67.8 ms, total: 178 ms\n",
      "Wall time: 59.7 ms\n"
     ]
    },
    {
     "data": {
      "text/plain": [
       "((58842.92695453358, 64812.771265346295),\n",
       " (-4.885112161048086, 5.70554077534423))"
      ]
     },
     "execution_count": 21,
     "metadata": {},
     "output_type": "execute_result"
    },
    {
     "data": {
      "image/png": "[encoded data removed]",
      "text/plain": [
       "<Figure size 576x144 with 1 Axes>"
      ]
     },
     "metadata": {},
     "output_type": "display_data"
    },
    {
     "data": {
      "image/png": "[encoded data removed]",
      "text/plain": [
       "<Figure size 576x144 with 1 Axes>"
      ]
     },
     "metadata": {},
     "output_type": "display_data"
    },
    {
     "data": {
      "image/png": "[encoded data removed]",
      "text/plain": [
       "<Figure size 576x144 with 1 Axes>"
      ]
     },
     "metadata": {},
     "output_type": "display_data"
    }
   ],
   "source": [
    "%time ax = t.show_orbit_stats(**t.declination(epoch=t.traj[2].dep_t + 30))\n",
    "%time ax = t.show_orbit_stats(**t.declination(epoch=t.traj[5].dep_t + 30))\n",
    "%time ax = t.show_orbit_stats(**t.declination())\n",
    "ax.get_xlim(), ax.get_ylim()"
   ]
  },
  {
   "cell_type": "code",
   "execution_count": 22,
   "metadata": {
    "collapsed": false,
    "deletable": true,
    "editable": true,
    "jupyter": {
     "outputs_hidden": false
    }
   },
   "outputs": [
    {
     "name": "stdout",
     "output_type": "stream",
     "text": [
      "CPU times: user 45.9 ms, sys: 10.2 ms, total: 56.1 ms\n",
      "Wall time: 21.4 ms\n",
      "CPU times: user 99.1 ms, sys: 31.8 ms, total: 131 ms\n",
      "Wall time: 43.9 ms\n",
      "(59108.02963004846, 59510.71775504846) (0.95, 1.05)\n",
      "(59108.02963004846, 59510.71775504846) (-0.05, 0.05)\n"
     ]
    },
    {
     "ename": "AssertionError",
     "evalue": "",
     "output_type": "error",
     "traceback": [
      "\u001b[0;31m---------------------------------------------------------------------------\u001b[0m",
      "\u001b[0;31mAssertionError\u001b[0m                            Traceback (most recent call last)",
      "\u001b[0;32m<ipython-input-22-08c0357642d8>\u001b[0m in \u001b[0;36m<module>\u001b[0;34m\u001b[0m\n\u001b[1;32m     11\u001b[0m \u001b[0;34m\u001b[0m\u001b[0m\n\u001b[1;32m     12\u001b[0m \u001b[0;34m\u001b[0m\u001b[0m\n\u001b[0;32m---> 13\u001b[0;31m \u001b[0;32massert\u001b[0m \u001b[0;32mFalse\u001b[0m\u001b[0;34m\u001b[0m\u001b[0;34m\u001b[0m\u001b[0m\n\u001b[0m",
      "\u001b[0;31mAssertionError\u001b[0m: "
     ]
    },
    {
     "data": {
      "image/png": "[encoded data removed]",
      "text/plain": [
       "<Figure size 1152x144 with 2 Axes>"
      ]
     },
     "metadata": {},
     "output_type": "display_data"
    }
   ],
   "source": [
    "# simulate look on the 1st frame\n",
    "fig = plt.figure(facecolor='black', figsize=(16, 2))\n",
    "ax1 = fig.add_subplot(1,2,1, facecolor='black')\n",
    "%time t.show_orbit_stats(ax=ax1, **t.heliocentric_radius(epoch=t.traj[0].dep_t))\n",
    "ax2 = fig.add_subplot(1,2,2, facecolor='black')\n",
    "%time t.show_orbit_stats(ax=ax2, **t.declination(epoch=t.traj[0].dep_t))\n",
    "print(ax1.get_xlim(), ax1.get_ylim())\n",
    "print(ax2.get_xlim(), ax2.get_ylim())\n",
    "#t.show_orbit_stats(ax=ax1, **t.heliocentric_radius(epoch=t.traj[2].dep_t))\n",
    "#t.show_orbit_stats(ax=ax2, **t.declination(epoch=t.traj[2].dep_t));\n",
    "assert False"
   ]
  },
  {
   "cell_type": "markdown",
   "metadata": {
    "deletable": true,
    "editable": true
   },
   "source": [
    "Reference frames for inspecting the rendering of different aspect of the animation."
   ]
  },
  {
   "cell_type": "code",
   "execution_count": null,
   "metadata": {
    "deletable": true,
    "editable": true
   },
   "outputs": [],
   "source": [
    "# plot and save just the reference image\n",
    "#t = traj_anim(spice)\n",
    "#%time ax,*_ = t.show(t.traj[-1].arr_t, pixel_height=1080)\n",
    "#ax.get_figure().savefig('save.png')"
   ]
  },
  {
   "cell_type": "code",
   "execution_count": null,
   "metadata": {
    "collapsed": false,
    "deletable": true,
    "editable": true,
    "jupyter": {
     "outputs_hidden": false
    }
   },
   "outputs": [],
   "source": [
    "t = traj_anim(spice)\n",
    "#t.marker_gradient = False\n",
    "\n",
    "# the animation's very first frame (0 mission time, all mass available)\n",
    "%time ax,*_ = t.show(t.leg_start[0])\n",
    "\n",
    "# first asteroid fully scored\n",
    "ax,*_ = t.show(t.leg_start[2])\n",
    "\n",
    "# still attempting to meet 2nd asteroid\n",
    "# flight time now >1 year (2d plots now shrinking to accomodate new data)\n",
    "# also: clearly inspecting the trails left by arrival asteroids up to the rendezvous with them\n",
    "ax,*_ = t.show(t.traj[2].dep_t+90, pixel_height=1080)\n",
    "ax,*_ = t.show(t.traj[2].arr_t-.1, pixel_height=1080)\n",
    "#ax.get_figure().savefig('save.png')\n",
    "\n",
    "# end of the trajectory -- final frame of the 1st animation\n",
    "# (mass+500 and mission time as reported by: final_mass(spice)-MASS_MIN, tof(spice) * DAY2YEAR)\n",
    "%time ax,*_ = t.show(t.traj[-1].arr_t, pixel_height=1080)\n",
    "ax.get_figure().savefig('save.png')\n",
    "\n",
    "# spotting change in contextual information as spacecraft begins a self-fly-by leg\n",
    "ax,*_ = t.show(t.leg_start[27]-.1)\n",
    "ax,*_ = t.show(t.leg_start[27])\n",
    "\n",
    "# leg to one of the asteroids with the largest name (and score>10), comparing auto-scalings\n",
    "# also: ecliptic plane over the lower right plots\n",
    "ax,*_ = t.show(t.leg_start[21])\n",
    "ax,*_ = t.show(t.leg_start[21], pixel_height=360)\n",
    "\n",
    "# frames from the final animation\n",
    "%time ax,*_ = t.show(0.5)\n",
    "ax,*_ = t.show(1.0)\n",
    "ax,*_ = t.show(2.0)"
   ]
  },
  {
   "cell_type": "markdown",
   "metadata": {
    "deletable": true,
    "editable": true
   },
   "source": [
    "----"
   ]
  },
  {
   "cell_type": "markdown",
   "metadata": {
    "deletable": true,
    "editable": true
   },
   "source": [
    "# Displaying animation in the notebook"
   ]
  },
  {
   "cell_type": "markdown",
   "metadata": {
    "deletable": true,
    "editable": true
   },
   "source": [
    "Render a few seconds of video, and display them on the notebook.<br>\n",
    "Example: [Embedding Matplotlib Animations in Jupyter Notebooks](http://louistiao.me/posts/notebooks/embedding-matplotlib-animations-in-jupyter-notebooks/)."
   ]
  },
  {
   "cell_type": "code",
   "execution_count": null,
   "metadata": {
    "deletable": true,
    "editable": true
   },
   "outputs": [],
   "source": [
    "plt.rcParams['animation.html'] = 'html5'\n",
    "from IPython.display import HTML"
   ]
  },
  {
   "cell_type": "code",
   "execution_count": null,
   "metadata": {
    "deletable": true,
    "editable": true
   },
   "outputs": [],
   "source": [
    "t = traj_anim(spice)\n",
    "t.marker_gradient = False # (for faster rendering)\n",
    "\n",
    "vid_quality = dict(pixel_height=480, fps=10)\n",
    "#vid_quality = dict(pixel_height=720, fps=20)\n",
    "#vid_quality = dict(pixel_height=1080, fps=30)\n",
    "\n",
    "render_slice = slice(None, 10) # first 10 seconds\n",
    "#render_slice = slice(5, 20) # 5s to 20s\n",
    "#render_slice = slice(1*60+58, 2*60 + 8) # 1:58 to 2:08, at the switch between animations\n",
    "#render_slice = slice(1*60+58, None) # see the whole second/final animation\n",
    "\n",
    "t_anim = t.create_anim(render_slice=render_slice, **vid_quality)\n",
    "%time HTML(t_anim.to_html5_video())"
   ]
  },
  {
   "cell_type": "code",
   "execution_count": null,
   "metadata": {
    "deletable": true,
    "editable": true
   },
   "outputs": [],
   "source": [
    "# f = open('test.mp4.html', 'w')\n",
    "# %time f.write(t_anim.to_html5_video())\n",
    "# f.close()"
   ]
  },
  {
   "cell_type": "markdown",
   "metadata": {
    "deletable": true,
    "editable": true
   },
   "source": [
    "----"
   ]
  },
  {
   "cell_type": "markdown",
   "metadata": {
    "deletable": true,
    "editable": true
   },
   "source": [
    "# Encoding for YouTube"
   ]
  },
  {
   "cell_type": "markdown",
   "metadata": {
    "deletable": true,
    "editable": true
   },
   "source": [
    "Save animation as an .MP4 file, properly encoded for upload to YouTube."
   ]
  },
  {
   "cell_type": "code",
   "execution_count": null,
   "metadata": {
    "deletable": true,
    "editable": true
   },
   "outputs": [],
   "source": [
    "traj_to_show = spice"
   ]
  },
  {
   "cell_type": "code",
   "execution_count": null,
   "metadata": {
    "deletable": true,
    "editable": true
   },
   "outputs": [],
   "source": [
    "fname = 'test'"
   ]
  },
  {
   "cell_type": "code",
   "execution_count": null,
   "metadata": {
    "deletable": true,
    "editable": true
   },
   "outputs": [],
   "source": [
    "vid_args = dict(pixel_height=480, fps=20)\n",
    "#vid_args = dict(pixel_height=720, fps=30)\n",
    "#vid_args = dict(pixel_height=1080, fps=30)\n",
    "#vid_args = dict(pixel_height=1080, fps=60)\n",
    "\n",
    "fname += '_%dp%d' % (vid_args['pixel_height'], vid_args['fps'])"
   ]
  },
  {
   "cell_type": "code",
   "execution_count": null,
   "metadata": {
    "collapsed": false,
    "deletable": true,
    "editable": true,
    "jupyter": {
     "outputs_hidden": false
    }
   },
   "outputs": [],
   "source": [
    "t = traj_anim(traj_to_show)\n",
    "#t.marker_gradient = False\n",
    "t_anim = t.create_anim(**vid_args)"
   ]
  },
  {
   "cell_type": "markdown",
   "metadata": {
    "deletable": true,
    "editable": true
   },
   "source": [
    "Parameterizing FFMpeg\n",
    "\n",
    "* [Recommended upload encoding settings - YouTube Help](https://support.google.com/youtube/answer/1722171)\n",
    "* [Encoding videos for YouTube with FFMpeg](https://www.virag.si/2015/06/encoding-videos-for-youtube-with-ffmpeg/)\n",
    "* [Encode/H.264 – FFmpeg](https://trac.ffmpeg.org/wiki/Encode/H.264)\n",
    "* [ffmpeg Documentation, 5.4 Main options](https://ffmpeg.org/ffmpeg.html#Main-options)"
   ]
  },
  {
   "cell_type": "code",
   "execution_count": null,
   "metadata": {
    "deletable": true,
    "editable": true
   },
   "outputs": [],
   "source": [
    "extra_args=[\n",
    "    # set video codec to H.264\n",
    "    '-vcodec', 'libx264',\n",
    "    # set video quality. Lower number means higher quality.\n",
    "    # 0 results in a lossless output\n",
    "    # See: https://trac.ffmpeg.org/wiki/Encode/H.264#LosslessH.264\n",
    "    '-crf', '0',\n",
    "#    '-crf', '17', # output that is roughly \"visually lossless\" but not technically lossless\n",
    "#    '-crf', '21', # a reasonable default which will create videos with bitrates as per guideline\n",
    "    # maximum 2 B-frames as per guideline\n",
    "    '-bf', '2',\n",
    "    # closed GOP as per guideline\n",
    "    '-flags', '+cgop',\n",
    "    # chroma subsampling 4:2:0 as per guideline\n",
    "    '-pix_fmt', 'yuv420p',\n",
    "    # put MOOV atom at the front of the file\n",
    "    '-movflags', 'faststart',\n",
    "    ]"
   ]
  },
  {
   "cell_type": "markdown",
   "metadata": {
    "deletable": true,
    "editable": true
   },
   "source": [
    "Define metadata tags"
   ]
  },
  {
   "cell_type": "code",
   "execution_count": null,
   "metadata": {
    "collapsed": false,
    "deletable": true,
    "editable": true,
    "jupyter": {
     "outputs_hidden": false
    }
   },
   "outputs": [],
   "source": [
    "title = \"GTOC5: Lambert model trajectory exploring %d asteroids\" % score(traj_to_show)\n",
    "comment = \"Score: %.1f\\nFinal mass (kg): %s\\nTime of flight (years): %s\\nResource rating: %s\" % (\n",
    "    score(traj_to_show),\n",
    "    repr(final_mass(traj_to_show)),\n",
    "    repr(tof(traj_to_show) * DAY2YEAR),\n",
    "    repr(resource_rating(traj_to_show)))\n",
    "print(title, '\\n' + comment)\n",
    "metadata = dict(title=title, comment=comment)"
   ]
  },
  {
   "cell_type": "markdown",
   "metadata": {
    "deletable": true,
    "editable": true
   },
   "source": [
    "## Save animation as an MP4 video"
   ]
  },
  {
   "cell_type": "code",
   "execution_count": null,
   "metadata": {
    "collapsed": false,
    "deletable": true,
    "editable": true,
    "jupyter": {
     "outputs_hidden": false
    }
   },
   "outputs": [],
   "source": [
    "t_anim.save(fname + '.mp4', writer='ffmpeg', fps=vid_args['fps'], dpi=100, extra_args=extra_args, metadata=metadata)"
   ]
  },
  {
   "cell_type": "markdown",
   "metadata": {
    "deletable": true,
    "editable": true
   },
   "source": [
    "## Add soundtrack"
   ]
  },
  {
   "cell_type": "code",
   "execution_count": null,
   "metadata": {
    "deletable": true,
    "editable": true
   },
   "outputs": [],
   "source": [
    "from os.path import exists\n",
    "from urllib.request import urlretrieve\n",
    "from subprocess import call"
   ]
  },
  {
   "cell_type": "markdown",
   "metadata": {
    "deletable": true,
    "editable": true
   },
   "source": [
    "Download audio file:\n",
    "\n",
    "> Frédéric Chopin, Waltz in C-sharp minor, Op. 64 No. 2, Harald Vetter (Piano)<br>\n",
    "  Available at: http://imslp.org/wiki/Special:ReverseLookup/456980"
   ]
  },
  {
   "cell_type": "code",
   "execution_count": null,
   "metadata": {
    "deletable": true,
    "editable": true
   },
   "outputs": [],
   "source": [
    "soundtrack_file = 'IMSLP456980-PMLP02373-Chopin_WalzerOp64_Nr2_cis_Moll.mp3'"
   ]
  },
  {
   "cell_type": "code",
   "execution_count": null,
   "metadata": {
    "collapsed": false,
    "deletable": true,
    "editable": true,
    "jupyter": {
     "outputs_hidden": false
    }
   },
   "outputs": [],
   "source": [
    "if not exists(soundtrack_file):\n",
    "    urlretrieve('http://imslp.nl/imglnks/usimg/4/41/' + soundtrack_file, filename=soundtrack_file);"
   ]
  },
  {
   "cell_type": "markdown",
   "metadata": {
    "deletable": true,
    "editable": true
   },
   "source": [
    "Trim audio file down to a length of 2 min. 20.8 sec., and apply a [fade-out](https://www.ffmpeg.org/ffmpeg-filters.html#afade-1) effect over the last 5 seconds. Save result into an AAC-encoded .m4a file [[1](https://trac.ffmpeg.org/wiki/Encode/AAC), [2](https://www.ffmpeg.org/ffmpeg-codecs.html#aac), [3](https://trac.ffmpeg.org/wiki/Encode/HighQualityAudio)], with all [metadata removed](https://superuser.com/questions/441361/strip-metadata-from-all-formats-with-ffmpeg)."
   ]
  },
  {
   "cell_type": "code",
   "execution_count": null,
   "metadata": {
    "collapsed": false,
    "deletable": true,
    "editable": true,
    "jupyter": {
     "outputs_hidden": false
    }
   },
   "outputs": [],
   "source": [
    "if not exists(soundtrack_file[:-4] + '.m4a'):\n",
    "    call('ffmpeg -i %s.mp3 -map_metadata -1 -ss 0 -t 140.8 -af afade=t=out:st=135.8:d=5 -c:a aac -b:a 320k %s.m4a -y' % (\n",
    "        soundtrack_file[:-4], soundtrack_file[:-4]))"
   ]
  },
  {
   "cell_type": "markdown",
   "metadata": {
    "deletable": true,
    "editable": true
   },
   "source": [
    "Add soundtrack to the video [[1](https://stackoverflow.com/questions/11779490/how-to-add-a-new-audio-not-mixing-into-a-video-using-ffmpeg)]."
   ]
  },
  {
   "cell_type": "code",
   "execution_count": null,
   "metadata": {
    "collapsed": false,
    "deletable": true,
    "editable": true,
    "jupyter": {
     "outputs_hidden": false
    }
   },
   "outputs": [],
   "source": [
    "call(['ffmpeg',\n",
    "      '-i', '%s.mp4' % fname,\n",
    "      '-i', soundtrack_file[:-4] + '.m4a',\n",
    "      '-codec', 'copy',\n",
    "      '%s+audio.mp4' % fname,\n",
    "      '-y'\n",
    "     ])"
   ]
  },
  {
   "cell_type": "markdown",
   "metadata": {
    "deletable": true,
    "editable": true
   },
   "source": [
    "## Generating custom thumbnails"
   ]
  },
  {
   "cell_type": "markdown",
   "metadata": {},
   "source": [
    "A pair of images that can be used on YouTube to give the video a custom thumbnail."
   ]
  },
  {
   "cell_type": "code",
   "execution_count": null,
   "metadata": {
    "collapsed": false,
    "deletable": true,
    "editable": true,
    "jupyter": {
     "outputs_hidden": false
    }
   },
   "outputs": [],
   "source": [
    "t = traj_anim(traj_to_show)\n",
    "# find epoch corresponding to the 64.5 seconds mark (with full trajectory being animated over 122 seconds)\n",
    "epoch = t.traj[0].dep_t +  (t.traj[-1].arr_t - t.traj[0].dep_t) * (64.5 / 122)\n",
    "\n",
    "ax,*_ = t.show(epoch, pixel_height=720)\n",
    "#ax,*_ = t.show(epoch, pixel_height=1080)\n",
    "#ax,*_ = t.show(epoch, pixel_height=2160) # (4k)\n",
    "ax.get_figure().savefig('thumbnail.1.png')"
   ]
  },
  {
   "cell_type": "code",
   "execution_count": null,
   "metadata": {
    "collapsed": false,
    "deletable": true,
    "editable": true,
    "jupyter": {
     "outputs_hidden": false
    }
   },
   "outputs": [],
   "source": [
    "t = traj_anim(traj_to_show)\n",
    "ax,*_ = t.show(1.0, pixel_height=720)\n",
    "#ax,*_ = t.show(1.0, pixel_height=1080)\n",
    "\n",
    "ax.view_init(elev=30, azim=95)\n",
    "ax.set_xlim3d(-.76, .76)\n",
    "ax.set_ylim3d(-.76, .76)\n",
    "ax.set_zlim3d(-0.11, 0.11)\n",
    "\n",
    "# remove plane of the ecliptic\n",
    "from mpl_toolkits.mplot3d.art3d import Poly3DCollection\n",
    "next(c for c in ax.get_children() if isinstance(c, Poly3DCollection)).remove()\n",
    "        \n",
    "ax.get_figure().savefig('thumbnail.2.png')"
   ]
  },
  {
   "cell_type": "markdown",
   "metadata": {
    "deletable": true,
    "editable": true
   },
   "source": [
    "----"
   ]
  },
  {
   "cell_type": "markdown",
   "metadata": {
    "deletable": true,
    "editable": true
   },
   "source": [
    "# Creating animated GIFs"
   ]
  },
  {
   "cell_type": "markdown",
   "metadata": {},
   "source": [
    "Animated GIFs created with [ImageMagick](https://www.imagemagick.org/), via Matplotlib's [`ImageMagickFileWriter`](http://matplotlib.org/api/_as_gen/matplotlib.animation.ImageMagickFileWriter.html#matplotlib.animation.ImageMagickFileWriter). Usage examples: [[1](http://eli.thegreenplace.net/2016/drawing-animated-gifs-with-matplotlib/), [2](http://louistiao.me/posts/notebooks/save-matplotlib-animations-as-gifs/), [3](http://stackoverflow.com/a/42565258)]."
   ]
  },
  {
   "cell_type": "code",
   "execution_count": null,
   "metadata": {
    "deletable": true,
    "editable": true
   },
   "outputs": [],
   "source": [
    "plt.rcParams['animation.convert_path'] = 'C:/Program Files/ImageMagick-7.0.5-Q16/magick.exe'"
   ]
  },
  {
   "cell_type": "code",
   "execution_count": null,
   "metadata": {
    "deletable": true,
    "editable": true
   },
   "outputs": [],
   "source": [
    "t = traj_anim(traj_to_show)\n",
    "t.show_extra_info = False\n",
    "render_slice = slice(64.5 - 2.5, 64.5 + 2.5) # picking 5 seconds of the video, centered at the 64.5 second mark\n",
    "t_anim = t.create_anim(pixel_height=360, fps=40, render_slice=render_slice)\n",
    "#t_anim = t.create_anim(pixel_height=480, fps=40, render_slice=render_slice)\n",
    "%time t_anim.save('traj_video.gif', writer='imagemagick', fps=20)  # lower fps to reduce animation speed"
   ]
  },
  {
   "cell_type": "markdown",
   "metadata": {
    "deletable": true,
    "editable": true
   },
   "source": [
    "----"
   ]
  },
  {
   "cell_type": "markdown",
   "metadata": {
    "deletable": true,
    "editable": true
   },
   "source": [
    "# Profiling"
   ]
  },
  {
   "cell_type": "markdown",
   "metadata": {},
   "source": [
    "Profile code over frames from randomly sampled epochs."
   ]
  },
  {
   "cell_type": "code",
   "execution_count": null,
   "metadata": {
    "deletable": true,
    "editable": true
   },
   "outputs": [],
   "source": [
    "def rand_frames(t, n=1000):\n",
    "    \"generate `n` frames, of randomly chosen epochs, onto the same figure/axes.\"\n",
    "    ax = None\n",
    "    epochs = t.traj[0].dep_t + np.random.random(n) * (t.traj[-1].arr_t - t.traj[0].dep_t)\n",
    "    for epoch in epochs:\n",
    "        ax = t.show(epoch, ax=ax, pixel_height=1080)\n",
    "    return ax"
   ]
  },
  {
   "cell_type": "code",
   "execution_count": null,
   "metadata": {
    "deletable": true,
    "editable": true
   },
   "outputs": [],
   "source": [
    "t = traj_anim(spice)\n",
    "#t.marker_gradient = False\n",
    "t.marker_gradient = True\n",
    "%prun -s cumulative ax = rand_frames(t, n=100)\n",
    "#%prun -s cumulative ax = rand_frames(t, n=1000)\n",
    "ax[0].get_figure().clear()"
   ]
  },
  {
   "cell_type": "markdown",
   "metadata": {},
   "source": [
    "Profile the last 14 seconds of the fist animation."
   ]
  },
  {
   "cell_type": "code",
   "execution_count": null,
   "metadata": {
    "deletable": true,
    "editable": true
   },
   "outputs": [],
   "source": [
    "t = traj_anim(spice)\n",
    "t_anim = t.create_anim(pixel_height=1080, fps=10, render_slice=slice(1*60+50, 2*60 + 4))\n",
    "%prun -s cumulative HTML(t_anim.to_html5_video())"
   ]
  },
  {
   "cell_type": "markdown",
   "metadata": {
    "deletable": true,
    "editable": true
   },
   "source": [
    "----"
   ]
  },
  {
   "cell_type": "markdown",
   "metadata": {
    "deletable": true,
    "editable": true
   },
   "source": [
    "# Watermark"
   ]
  },
  {
   "cell_type": "markdown",
   "metadata": {
    "deletable": true,
    "editable": true
   },
   "source": [
    "Watermark of the environment in which video was generated."
   ]
  },
  {
   "cell_type": "code",
   "execution_count": null,
   "metadata": {
    "collapsed": false,
    "deletable": true,
    "editable": true,
    "jupyter": {
     "outputs_hidden": false
    },
    "scrolled": true
   },
   "outputs": [],
   "source": [
    "%load_ext watermark\n",
    "%watermark -v -m -p PyKEP,numpy,tqdm,matplotlib,seaborn,IPython,jupyter\n",
    "# https://github.com/rasbt/watermark"
   ]
  },
  {
   "cell_type": "markdown",
   "metadata": {
    "deletable": true,
    "editable": true
   },
   "source": [
    "[FFmpeg](https://ffmpeg.org/about.html)"
   ]
  },
  {
   "cell_type": "code",
   "execution_count": null,
   "metadata": {
    "collapsed": false,
    "deletable": true,
    "editable": true,
    "jupyter": {
     "outputs_hidden": false
    }
   },
   "outputs": [],
   "source": [
    "!ffmpeg -version"
   ]
  },
  {
   "cell_type": "markdown",
   "metadata": {
    "deletable": true,
    "editable": true
   },
   "source": [
    "[ImageMagick](https://www.imagemagick.org/)"
   ]
  },
  {
   "cell_type": "code",
   "execution_count": null,
   "metadata": {
    "collapsed": false,
    "deletable": true,
    "editable": true,
    "jupyter": {
     "outputs_hidden": false
    },
    "scrolled": true
   },
   "outputs": [],
   "source": [
    "!magick -version"
   ]
  },
  {
   "cell_type": "markdown",
   "metadata": {
    "deletable": true,
    "editable": true
   },
   "source": [
    "----"
   ]
  },
  {
   "cell_type": "markdown",
   "metadata": {
    "deletable": true,
    "editable": true
   },
   "source": [
    "Generate the Table of Contents"
   ]
  },
  {
   "cell_type": "code",
   "execution_count": null,
   "metadata": {
    "collapsed": false,
    "deletable": true,
    "editable": true,
    "jupyter": {
     "outputs_hidden": false
    }
   },
   "outputs": [],
   "source": [
    "%%javascript\n",
    "$.getScript('https://kmahelona.github.io/ipython_notebook_goodies/ipython_notebook_toc.js')\n",
    "// https://github.com/kmahelona/ipython_notebook_goodies"
   ]
  },
  {
   "cell_type": "markdown",
   "metadata": {
    "deletable": true,
    "editable": true
   },
   "source": [
    "----"
   ]
  }
 ],
 "metadata": {
  "kernelspec": {
   "display_name": "Python 3",
   "language": "python",
   "name": "python3"
  },
  "language_info": {
   "codemirror_mode": {
    "name": "ipython",
    "version": 3
   },
   "file_extension": ".py",
   "mimetype": "text/x-python",
   "name": "python",
   "nbconvert_exporter": "python",
   "pygments_lexer": "ipython3",
   "version": "3.6.9"
  }
 },
 "nbformat": 4,
 "nbformat_minor": 4
}
